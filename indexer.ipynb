{
 "cells": [
  {
   "cell_type": "code",
   "execution_count": 6,
   "id": "dfd53933",
   "metadata": {},
   "outputs": [],
   "source": [
    "import ujson\n",
    "import nltk\n",
    "from nltk.corpus import stopwords\n",
    "from nltk.tokenize import word_tokenize\n",
    "from nltk.stem import PorterStemmer"
   ]
  },
  {
   "cell_type": "code",
   "execution_count": 7,
   "id": "01417011",
   "metadata": {},
   "outputs": [
    {
     "name": "stdout",
     "output_type": "stream",
     "text": [
      "122\n"
     ]
    }
   ],
   "source": [
    "#Preprosessing data before indexing\n",
    "with open('scraper_results.json', 'r',encoding='utf-8') as doc: scraper_results=doc.read()\n",
    "\n",
    "pubName = []\n",
    "pubURL = []\n",
    "pubCUAuthor = []\n",
    "pubDate = []\n",
    "data_dict = ujson.loads(scraper_results)\n",
    "array_length = len(data_dict)\n",
    "print(array_length)"
   ]
  },
  {
   "cell_type": "code",
   "execution_count": 8,
   "id": "9ee13b3e",
   "metadata": {},
   "outputs": [],
   "source": [
    "#Seperate name, url, date, author in different file\n",
    "for item in data_dict:\n",
    "    pubName.append(item[\"name\"])\n",
    "    pubURL.append(item[\"pub_url\"])\n",
    "    pubCUAuthor.append(item[\"cu_author\"])\n",
    "    pubDate.append(item[\"date\"])\n",
    "with open('pub_name.json', 'w') as f:ujson.dump(pubName, f)\n",
    "with open('pub_url.json', 'w') as f:ujson.dump(pubURL, f)\n",
    "with open('pub_cu_author.json', 'w') as f:ujson.dump(pubCUAuthor, f)\n",
    "with open('pub_date.json', 'w') as f: ujson.dump(pubDate, f)"
   ]
  },
  {
   "cell_type": "code",
   "execution_count": 9,
   "id": "7afdafa5",
   "metadata": {},
   "outputs": [
    {
     "name": "stdout",
     "output_type": "stream",
     "text": [
      "122\n",
      "122\n",
      "122\n",
      "122\n",
      "122\n"
     ]
    }
   ],
   "source": [
    "#Open a file with publication names in read mode\n",
    "with open('pub_name.json','r') as f:publication=f.read()\n",
    "\n",
    "#Load JSON File\n",
    "pubName = ujson.loads(publication)\n",
    "\n",
    "#Predefined stopwords in nltk are used\n",
    "stop_words = stopwords.words('english')\n",
    "stemmer = PorterStemmer()\n",
    "pub_list_first_stem = []\n",
    "pub_list = []\n",
    "pub_list_wo_sc = []\n",
    "print(len(pubName))\n",
    "\n",
    "for file in pubName:\n",
    "    #Splitting strings to tokens(words)\n",
    "    words = word_tokenize(file)\n",
    "    stem_word = \"\"\n",
    "    for i in words:\n",
    "        if i.lower() not in stop_words:\n",
    "            stem_word += stemmer.stem(i) + \" \"\n",
    "    pub_list_first_stem.append(stem_word)\n",
    "    pub_list.append(file)\n",
    "\n",
    "#Removing all below characters\n",
    "special_characters = '''!()-—[]{};:'\"\\, <>./?@#$%^&*_~0123456789+=’‘'''\n",
    "for file in pub_list:\n",
    "    word_wo_sc = \"\"\n",
    "    if len(file.split()) ==1 : pub_list_wo_sc.append(file)\n",
    "    else:\n",
    "        for a in file:\n",
    "            if a in special_characters:\n",
    "                word_wo_sc += ' '\n",
    "            else:\n",
    "                word_wo_sc += a\n",
    "        #print(word_wo_sc)\n",
    "        pub_list_wo_sc.append(word_wo_sc)\n",
    "\n",
    "#Stemming Process\n",
    "pub_list_stem_wo_sw = []\n",
    "for name in pub_list_wo_sc:\n",
    "    words = word_tokenize(name)\n",
    "    stem_word = \"\"\n",
    "    for a in words:\n",
    "        if a.lower() not in stop_words:\n",
    "            stem_word += stemmer.stem(a) + ' '\n",
    "    pub_list_stem_wo_sw.append(stem_word.lower())\n",
    "\n",
    "data_dict = {}\n",
    "\n",
    "# Indexing process\n",
    "for a in range(len(pub_list_stem_wo_sw)):\n",
    "    for b in pub_list_stem_wo_sw[a].split():\n",
    "        if b not in data_dict:\n",
    "             data_dict[b] = [a]\n",
    "        else:\n",
    "            data_dict[b].append(a)\n",
    "\n",
    "\n",
    "print(len(pub_list_wo_sc))\n",
    "print(len(pub_list_stem_wo_sw))\n",
    "print(len(pub_list_first_stem))\n",
    "print(len(pub_list))\n",
    "\n",
    "# with open('publication_list.json', 'w') as f:\n",
    "#     ujson.dump(pub_list, f)\n",
    "\n",
    "with open('publication_list_stemmed.json', 'w') as f:\n",
    "    ujson.dump(pub_list_first_stem, f)\n",
    "\n",
    "with open('publication_indexed_dictionary.json', 'w') as f:\n",
    "    ujson.dump(data_dict, f)"
   ]
  }
 ],
 "metadata": {
  "kernelspec": {
   "display_name": "Python 3 (ipykernel)",
   "language": "python",
   "name": "python3"
  },
  "language_info": {
   "codemirror_mode": {
    "name": "ipython",
    "version": 3
   },
   "file_extension": ".py",
   "mimetype": "text/x-python",
   "name": "python",
   "nbconvert_exporter": "python",
   "pygments_lexer": "ipython3",
   "version": "3.9.13"
  }
 },
 "nbformat": 4,
 "nbformat_minor": 5
}
