{
 "cells": [
  {
   "cell_type": "code",
   "execution_count": 30,
   "id": "bfc32d02",
   "metadata": {},
   "outputs": [
    {
     "name": "stderr",
     "output_type": "stream",
     "text": [
      "[nltk_data] Downloading package stopwords to\n",
      "[nltk_data]     /Users/aayush/nltk_data...\n",
      "[nltk_data]   Package stopwords is already up-to-date!\n",
      "[nltk_data] Downloading package punkt to /Users/aayush/nltk_data...\n",
      "[nltk_data]   Package punkt is already up-to-date!\n"
     ]
    },
    {
     "data": {
      "text/plain": [
       "True"
      ]
     },
     "execution_count": 30,
     "metadata": {},
     "output_type": "execute_result"
    }
   ],
   "source": [
    "from tkinter import *\n",
    "from tkinter.messagebox import *\n",
    "import numpy as np\n",
    "import pandas as pd\n",
    "from sklearn.metrics import confusion_matrix\n",
    "import seaborn as sns; sns.set()\n",
    "from nltk.corpus import stopwords\n",
    "from nltk.stem import PorterStemmer\n",
    "from nltk.tokenize import word_tokenize\n",
    "from sklearn.feature_extraction.text import TfidfVectorizer\n",
    "from sklearn.metrics import confusion_matrix, f1_score, accuracy_score, classification_report\n",
    "from sklearn.naive_bayes import MultinomialNB\n",
    "from skmultilearn.problem_transform import ClassifierChain\n",
    "import matplotlib.pyplot as plt\n",
    "import pickle\n",
    "from sklearn.pipeline import Pipeline\n",
    "import nltk\n",
    "nltk.download('stopwords')\n",
    "nltk.download('punkt')"
   ]
  },
  {
   "cell_type": "code",
   "execution_count": 31,
   "id": "7cd512d5",
   "metadata": {},
   "outputs": [],
   "source": [
    "train_data = pd.read_csv('Train.csv')\n",
    "test_data = pd.read_csv('Test.csv')\n",
    "\n",
    "abstract_list_train = []\n",
    "abstract_list_test = []\n",
    "stemmer = PorterStemmer()\n",
    "stop_words = stopwords.words('english')"
   ]
  },
  {
   "cell_type": "code",
   "execution_count": 32,
   "id": "a26d0fb7",
   "metadata": {},
   "outputs": [],
   "source": [
    "#Remove StopWords and Stemming\n",
    "def remove_stopwords(data = []):\n",
    "    data_list = []\n",
    "    for name in data:\n",
    "        words = word_tokenize(name)\n",
    "        stem_word = \"\"\n",
    "        for a in words:\n",
    "            if a.lower() not in stop_words:\n",
    "                stem_word += stemmer.stem(a) + ' '\n",
    "        data_list.append(stem_word.lower())\n",
    "    return data_list"
   ]
  },
  {
   "cell_type": "code",
   "execution_count": 33,
   "id": "b95c60d7",
   "metadata": {},
   "outputs": [],
   "source": [
    "#Remove Special Characters\n",
    "def remove_special_character(data = []):\n",
    "    abstract_list_wo_sc = []\n",
    "    special_characters = '''!()-—[]{};:'\"\\, <>./?@#$%^&*_~0123456789+=’‘'''\n",
    "    for file in data:\n",
    "        word_wo_sc = \"\"\n",
    "        if len(file.split()) == 1:\n",
    "            abstract_list_wo_sc.append(file)\n",
    "        else:\n",
    "            for a in file:\n",
    "                if a in special_characters:\n",
    "                    word_wo_sc += ' '\n",
    "                else:\n",
    "                    word_wo_sc += a\n",
    "            abstract_list_wo_sc.append(word_wo_sc)\n",
    "    return abstract_list_wo_sc\n"
   ]
  },
  {
   "cell_type": "code",
   "execution_count": 34,
   "id": "0c9c5631",
   "metadata": {},
   "outputs": [],
   "source": [
    "#Remove stopwords from Train Data\n",
    "data_train = np.array(train_data['ABSTRACT'])\n",
    "abstract_list_train = remove_stopwords(data_train)\n",
    "\n",
    "#Remove stopwords from Test Data\n",
    "data_test = np.array(test_data['ABSTRACT'])\n",
    "abstract_list_test = remove_stopwords(data_test)\n",
    "\n",
    "#Removing speaial characters from Train Data and Test Data\n",
    "abstract_list_wo_sc_train = remove_special_character(abstract_list_train)\n",
    "abstract_list_wo_sc_test = remove_special_character(abstract_list_test)"
   ]
  },
  {
   "cell_type": "code",
   "execution_count": 35,
   "id": "076f5e0e",
   "metadata": {},
   "outputs": [
    {
     "name": "stdout",
     "output_type": "stream",
     "text": [
      "There are  14004  input training samples\n",
      "There are  6002  input testing samples\n",
      "There are  (14004, 4)  output training samples\n",
      "There are  (6002, 4)  output testing samples\n"
     ]
    }
   ],
   "source": [
    "categories=['Computer Science', 'Physics', 'Mathematics', 'Statistics']\n",
    "\n",
    "x_train = abstract_list_wo_sc_train\n",
    "y_train = train_data[categories]\n",
    "x_test = abstract_list_wo_sc_test\n",
    "y_test = test_data[categories]\n",
    "\n",
    "print(\"There are \", len(x_train), \" input training samples\")\n",
    "print(\"There are \", len(x_test), \" input testing samples\")\n",
    "print(\"There are \", y_train.shape, \" output training samples\")\n",
    "print(\"There are \", y_test.shape, \" output testing samples\")"
   ]
  },
  {
   "cell_type": "code",
   "execution_count": 36,
   "id": "b716b0f1",
   "metadata": {},
   "outputs": [
    {
     "name": "stdout",
     "output_type": "stream",
     "text": [
      "Accuracy =  0.6391202932355882\n",
      "F1 score is  0.7653077537969625\n",
      "              precision    recall  f1-score   support\n",
      "\n",
      "           0       0.78      0.88      0.83      2529\n",
      "           1       0.99      0.87      0.92      1644\n",
      "           2       0.99      0.48      0.65      1194\n",
      "           3       0.92      0.34      0.49      1660\n",
      "\n",
      "   micro avg       0.87      0.68      0.77      7027\n",
      "   macro avg       0.92      0.64      0.72      7027\n",
      "weighted avg       0.90      0.68      0.74      7027\n",
      " samples avg       0.76      0.72      0.73      7027\n",
      "\n"
     ]
    },
    {
     "name": "stderr",
     "output_type": "stream",
     "text": [
      "/Users/aayush/opt/anaconda3/lib/python3.9/site-packages/sklearn/metrics/_classification.py:1344: UndefinedMetricWarning: Precision and F-score are ill-defined and being set to 0.0 in samples with no predicted labels. Use `zero_division` parameter to control this behavior.\n",
      "  _warn_prf(average, modifier, msg_start, len(result))\n"
     ]
    }
   ],
   "source": [
    "# defining parameters for pipeline\n",
    "parameters = Pipeline([('tfidf', TfidfVectorizer(stop_words=stop_words)),('clf', ClassifierChain(MultinomialNB())),])\n",
    "\n",
    "# train data\n",
    "parameters.fit(x_train, y_train)\n",
    "\n",
    "# predict\n",
    "predictions = parameters.predict(x_test)\n",
    "\n",
    "print('Accuracy = ', accuracy_score(y_test,predictions))\n",
    "print('F1 score is ',f1_score(y_test, predictions, average=\"micro\"))\n",
    "print(classification_report(y_test,predictions))"
   ]
  },
  {
   "cell_type": "code",
   "execution_count": 37,
   "id": "6ed7fd75",
   "metadata": {},
   "outputs": [
    {
     "data": {
      "image/png": "[encoded data removed]",
      "text/plain": [
       "<Figure size 640x480 with 1 Axes>"
      ]
     },
     "metadata": {},
     "output_type": "display_data"
    }
   ],
   "source": [
    "#Confusion Matrix and HeatMap Generation\n",
    "mat = confusion_matrix(np.asarray(y_test.values.argmax(axis=1)), np.asarray(predictions.argmax(axis=1)))\n",
    "sns.heatmap(mat.T, square=True, annot=True, fmt='d', cbar=False)\n",
    "plt.xlabel('True label')\n",
    "plt.ylabel('Predicted label')\n",
    "plt.show()"
   ]
  },
  {
   "cell_type": "code",
   "execution_count": null,
   "id": "a759dd02",
   "metadata": {},
   "outputs": [],
   "source": []
  }
 ],
 "metadata": {
  "kernelspec": {
   "display_name": "Python 3 (ipykernel)",
   "language": "python",
   "name": "python3"
  },
  "language_info": {
   "codemirror_mode": {
    "name": "ipython",
    "version": 3
   },
   "file_extension": ".py",
   "mimetype": "text/x-python",
   "name": "python",
   "nbconvert_exporter": "python",
   "pygments_lexer": "ipython3",
   "version": "3.9.13"
  }
 },
 "nbformat": 4,
 "nbformat_minor": 5
}
